{
 "cells": [
  {
   "cell_type": "code",
   "execution_count": 1,
   "id": "cc8ffd6a",
   "metadata": {},
   "outputs": [
    {
     "name": "stdout",
     "output_type": "stream",
     "text": [
      "Defaulting to user installation because normal site-packages is not writeable\n",
      "Collecting djitellopy\n",
      "  Downloading djitellopy-2.4.0-py3-none-any.whl (14 kB)\n",
      "Requirement already satisfied: opencv-python in /home/alokie/.local/lib/python3.10/site-packages (from djitellopy) (4.7.0.68)\n",
      "Requirement already satisfied: numpy in /usr/lib/python3/dist-packages (from djitellopy) (1.21.5)\n",
      "Installing collected packages: djitellopy\n",
      "Successfully installed djitellopy-2.4.0\n"
     ]
    }
   ],
   "source": [
    "!pip3 install djitellopy"
   ]
  },
  {
   "cell_type": "code",
   "execution_count": 1,
   "id": "b038370b",
   "metadata": {},
   "outputs": [
    {
     "name": "stderr",
     "output_type": "stream",
     "text": [
      "[INFO] tello.py - 122 - Tello instance was initialized. Host: '192.168.10.1'. Port: '8889'.\n",
      "[INFO] tello.py - 437 - Send command: 'command'\n",
      "[INFO] tello.py - 461 - Response command: 'ok'\n",
      "[INFO] tello.py - 437 - Send command: 'streamon'\n",
      "[INFO] tello.py - 461 - Response streamon: 'ok'\n"
     ]
    },
    {
     "name": "stdout",
     "output_type": "stream",
     "text": [
      "33\n"
     ]
    },
    {
     "name": "stderr",
     "output_type": "stream",
     "text": [
      "[h264 @ 0x55937286b140] non-existing PPS 0 referenced\n",
      "[h264 @ 0x55937286b140] non-existing PPS 0 referenced\n",
      "[h264 @ 0x55937286b140] decode_slice_header error\n",
      "[h264 @ 0x55937286b140] no frame!\n",
      "[h264 @ 0x55937286b140] non-existing PPS 0 referenced\n",
      "[h264 @ 0x55937286b140] non-existing PPS 0 referenced\n",
      "[h264 @ 0x55937286b140] decode_slice_header error\n",
      "[h264 @ 0x55937286b140] no frame!\n",
      "[h264 @ 0x55937286b140] non-existing PPS 0 referenced\n",
      "[h264 @ 0x55937286b140] non-existing PPS 0 referenced\n",
      "[h264 @ 0x55937286b140] decode_slice_header error\n",
      "[h264 @ 0x55937286b140] no frame!\n",
      "[h264 @ 0x55937286b140] non-existing PPS 0 referenced\n",
      "[h264 @ 0x55937286b140] non-existing PPS 0 referenced\n",
      "[h264 @ 0x55937286b140] decode_slice_header error\n",
      "[h264 @ 0x55937286b140] no frame!\n",
      "[h264 @ 0x55937286b140] non-existing PPS 0 referenced\n",
      "[h264 @ 0x55937286b140] non-existing PPS 0 referenced\n",
      "[h264 @ 0x55937286b140] decode_slice_header error\n",
      "[h264 @ 0x55937286b140] no frame!\n",
      "[h264 @ 0x55937286b140] non-existing PPS 0 referenced\n",
      "[h264 @ 0x55937286b140] non-existing PPS 0 referenced\n",
      "[h264 @ 0x55937286b140] decode_slice_header error\n",
      "[h264 @ 0x55937286b140] no frame!\n",
      "[h264 @ 0x55937286b140] non-existing PPS 0 referenced\n",
      "[h264 @ 0x55937286b140] non-existing PPS 0 referenced\n",
      "[h264 @ 0x55937286b140] decode_slice_header error\n",
      "[h264 @ 0x55937286b140] no frame!\n",
      "[h264 @ 0x55937286b140] non-existing PPS 0 referenced\n",
      "[h264 @ 0x55937286b140] non-existing PPS 0 referenced\n",
      "[h264 @ 0x55937286b140] decode_slice_header error\n",
      "[h264 @ 0x55937286b140] no frame!\n",
      "[h264 @ 0x55937286b140] non-existing PPS 0 referenced\n",
      "[h264 @ 0x55937286b140] non-existing PPS 0 referenced\n",
      "[h264 @ 0x55937286b140] decode_slice_header error\n",
      "[h264 @ 0x55937286b140] no frame!\n",
      "[h264 @ 0x55937286b140] non-existing PPS 0 referenced\n",
      "[h264 @ 0x55937286b140] non-existing PPS 0 referenced\n",
      "[h264 @ 0x55937286b140] decode_slice_header error\n",
      "[h264 @ 0x55937286b140] no frame!\n",
      "[h264 @ 0x55937286b140] non-existing PPS 0 referenced\n",
      "[h264 @ 0x55937286b140] non-existing PPS 0 referenced\n",
      "[h264 @ 0x55937286b140] decode_slice_header error\n",
      "[h264 @ 0x55937286b140] no frame!\n",
      "[h264 @ 0x55937286b140] non-existing PPS 0 referenced\n",
      "[h264 @ 0x55937286b140] non-existing PPS 0 referenced\n",
      "[h264 @ 0x55937286b140] decode_slice_header error\n",
      "[h264 @ 0x55937286b140] no frame!\n",
      "[h264 @ 0x55937286b140] non-existing PPS 0 referenced\n",
      "[h264 @ 0x55937286b140] non-existing PPS 0 referenced\n",
      "[h264 @ 0x55937286b140] decode_slice_header error\n",
      "[h264 @ 0x55937286b140] no frame!\n",
      "[h264 @ 0x55937286b140] non-existing PPS 0 referenced\n",
      "[h264 @ 0x55937286b140] non-existing PPS 0 referenced\n",
      "[h264 @ 0x55937286b140] decode_slice_header error\n",
      "[h264 @ 0x55937286b140] no frame!\n",
      "[h264 @ 0x55937286b140] non-existing PPS 0 referenced\n",
      "[h264 @ 0x55937286b140] non-existing PPS 0 referenced\n",
      "[h264 @ 0x55937286b140] decode_slice_header error\n",
      "[h264 @ 0x55937286b140] no frame!\n",
      "[h264 @ 0x55937286b140] non-existing PPS 0 referenced\n",
      "[h264 @ 0x55937286b140] non-existing PPS 0 referenced\n",
      "[h264 @ 0x55937286b140] decode_slice_header error\n",
      "[h264 @ 0x55937286b140] no frame!\n",
      "[h264 @ 0x55937286b140] non-existing PPS 0 referenced\n",
      "[h264 @ 0x55937286b140] non-existing PPS 0 referenced\n",
      "[h264 @ 0x55937286b140] decode_slice_header error\n",
      "[h264 @ 0x55937286b140] no frame!\n",
      "[h264 @ 0x55937286b140] non-existing PPS 0 referenced\n",
      "[h264 @ 0x55937286b140] non-existing PPS 0 referenced\n",
      "[h264 @ 0x55937286b140] decode_slice_header error\n",
      "[h264 @ 0x55937286b140] no frame!\n",
      "[h264 @ 0x55937286b140] non-existing PPS 0 referenced\n",
      "[h264 @ 0x55937286b140] non-existing PPS 0 referenced\n",
      "[h264 @ 0x55937286b140] decode_slice_header error\n",
      "[h264 @ 0x55937286b140] no frame!\n",
      "[h264 @ 0x55937286b140] non-existing PPS 0 referenced\n",
      "[h264 @ 0x55937286b140] non-existing PPS 0 referenced\n",
      "[h264 @ 0x55937286b140] decode_slice_header error\n",
      "[h264 @ 0x55937286b140] no frame!\n",
      "[h264 @ 0x55937286b140] non-existing PPS 0 referenced\n",
      "[h264 @ 0x55937286b140] non-existing PPS 0 referenced\n",
      "[h264 @ 0x55937286b140] decode_slice_header error\n",
      "[h264 @ 0x55937286b140] no frame!\n",
      "[h264 @ 0x55937286b140] non-existing PPS 0 referenced\n",
      "[h264 @ 0x55937286b140] non-existing PPS 0 referenced\n",
      "[h264 @ 0x55937286b140] decode_slice_header error\n",
      "[h264 @ 0x55937286b140] no frame!\n",
      "[h264 @ 0x55937286b140] non-existing PPS 0 referenced\n",
      "[h264 @ 0x55937286b140] non-existing PPS 0 referenced\n",
      "[h264 @ 0x55937286b140] decode_slice_header error\n",
      "[h264 @ 0x55937286b140] no frame!\n",
      "[h264 @ 0x55937286b140] non-existing PPS 0 referenced\n",
      "[h264 @ 0x55937286b140] non-existing PPS 0 referenced\n",
      "[h264 @ 0x55937286b140] decode_slice_header error\n",
      "[h264 @ 0x55937286b140] no frame!\n"
     ]
    },
    {
     "ename": "AttributeError",
     "evalue": "'numpy.ndarray' object has no attribute 'release'",
     "output_type": "error",
     "traceback": [
      "\u001b[0;31m---------------------------------------------------------------------------\u001b[0m",
      "\u001b[0;31mAttributeError\u001b[0m                            Traceback (most recent call last)",
      "Cell \u001b[0;32mIn[1], line 21\u001b[0m\n\u001b[1;32m     18\u001b[0m     \u001b[38;5;28;01mif\u001b[39;00m keyboard_input \u001b[38;5;241m==\u001b[39m \u001b[38;5;241m27\u001b[39m:\n\u001b[1;32m     19\u001b[0m         \u001b[38;5;28;01mbreak\u001b[39;00m\n\u001b[0;32m---> 21\u001b[0m \u001b[43mimg\u001b[49m\u001b[38;5;241;43m.\u001b[39;49m\u001b[43mrelease\u001b[49m()\n\u001b[1;32m     22\u001b[0m cv2\u001b[38;5;241m.\u001b[39mdestroyAllWindows()\n",
      "\u001b[0;31mAttributeError\u001b[0m: 'numpy.ndarray' object has no attribute 'release'"
     ]
    }
   ],
   "source": [
    "from djitellopy import tello\n",
    "import cv2\n",
    "\n",
    "me = tello.Tello()\n",
    "#cap = cv2.VideoCapture(0)\n",
    "me.connect()\n",
    "print(me.get_battery())\n",
    "me.streamon()\n",
    "\n",
    "\n",
    "while True:\n",
    "    img = me.get_frame_read().frame\n",
    "    img = cv2.resize(img, (224, 224))\n",
    "    cv2.imshow(\"results\", img)\n",
    "     # Listen to the keyboard for presses.\n",
    "    keyboard_input = cv2.waitKey(1)\n",
    "    # 27 is the ASCII for the esc key on your keyboard.\n",
    "    if keyboard_input == 27:\n",
    "        break\n",
    "\n",
    "img.release()\n",
    "cv2.destroyAllWindows()\n"
   ]
  },
  {
   "cell_type": "code",
   "execution_count": null,
   "id": "49562db1",
   "metadata": {},
   "outputs": [
    {
     "name": "stderr",
     "output_type": "stream",
     "text": [
      "2023-01-29 01:40:30.873576: I tensorflow/core/platform/cpu_feature_guard.cc:193] This TensorFlow binary is optimized with oneAPI Deep Neural Network Library (oneDNN) to use the following CPU instructions in performance-critical operations:  AVX2 FMA\n",
      "To enable them in other operations, rebuild TensorFlow with the appropriate compiler flags.\n",
      "2023-01-29 01:40:30.980500: W tensorflow/compiler/xla/stream_executor/platform/default/dso_loader.cc:64] Could not load dynamic library 'libcudart.so.11.0'; dlerror: libcudart.so.11.0: cannot open shared object file: No such file or directory; LD_LIBRARY_PATH: /home/alokie/.local/lib/python3.10/site-packages/cv2/../../lib64:\n",
      "2023-01-29 01:40:30.980519: I tensorflow/compiler/xla/stream_executor/cuda/cudart_stub.cc:29] Ignore above cudart dlerror if you do not have a GPU set up on your machine.\n",
      "2023-01-29 01:40:31.529775: W tensorflow/compiler/xla/stream_executor/platform/default/dso_loader.cc:64] Could not load dynamic library 'libnvinfer.so.7'; dlerror: libnvinfer.so.7: cannot open shared object file: No such file or directory; LD_LIBRARY_PATH: /home/alokie/.local/lib/python3.10/site-packages/cv2/../../lib64:\n",
      "2023-01-29 01:40:31.529832: W tensorflow/compiler/xla/stream_executor/platform/default/dso_loader.cc:64] Could not load dynamic library 'libnvinfer_plugin.so.7'; dlerror: libnvinfer_plugin.so.7: cannot open shared object file: No such file or directory; LD_LIBRARY_PATH: /home/alokie/.local/lib/python3.10/site-packages/cv2/../../lib64:\n",
      "2023-01-29 01:40:31.529839: W tensorflow/compiler/tf2tensorrt/utils/py_utils.cc:38] TF-TRT Warning: Cannot dlopen some TensorRT libraries. If you would like to use Nvidia GPU with TensorRT, please make sure the missing libraries mentioned above are installed properly.\n",
      "2023-01-29 01:40:32.258998: I tensorflow/compiler/xla/stream_executor/cuda/cuda_gpu_executor.cc:981] successful NUMA node read from SysFS had negative value (-1), but there must be at least one NUMA node, so returning NUMA node zero\n",
      "2023-01-29 01:40:32.259196: W tensorflow/compiler/xla/stream_executor/platform/default/dso_loader.cc:64] Could not load dynamic library 'libcudart.so.11.0'; dlerror: libcudart.so.11.0: cannot open shared object file: No such file or directory; LD_LIBRARY_PATH: /home/alokie/.local/lib/python3.10/site-packages/cv2/../../lib64:\n",
      "2023-01-29 01:40:32.259245: W tensorflow/compiler/xla/stream_executor/platform/default/dso_loader.cc:64] Could not load dynamic library 'libcublas.so.11'; dlerror: libcublas.so.11: cannot open shared object file: No such file or directory; LD_LIBRARY_PATH: /home/alokie/.local/lib/python3.10/site-packages/cv2/../../lib64:\n",
      "2023-01-29 01:40:32.259284: W tensorflow/compiler/xla/stream_executor/platform/default/dso_loader.cc:64] Could not load dynamic library 'libcublasLt.so.11'; dlerror: libcublasLt.so.11: cannot open shared object file: No such file or directory; LD_LIBRARY_PATH: /home/alokie/.local/lib/python3.10/site-packages/cv2/../../lib64:\n",
      "2023-01-29 01:40:32.259319: W tensorflow/compiler/xla/stream_executor/platform/default/dso_loader.cc:64] Could not load dynamic library 'libcufft.so.10'; dlerror: libcufft.so.10: cannot open shared object file: No such file or directory; LD_LIBRARY_PATH: /home/alokie/.local/lib/python3.10/site-packages/cv2/../../lib64:\n",
      "2023-01-29 01:40:32.259356: W tensorflow/compiler/xla/stream_executor/platform/default/dso_loader.cc:64] Could not load dynamic library 'libcurand.so.10'; dlerror: libcurand.so.10: cannot open shared object file: No such file or directory; LD_LIBRARY_PATH: /home/alokie/.local/lib/python3.10/site-packages/cv2/../../lib64:\n",
      "2023-01-29 01:40:32.259394: W tensorflow/compiler/xla/stream_executor/platform/default/dso_loader.cc:64] Could not load dynamic library 'libcusolver.so.11'; dlerror: libcusolver.so.11: cannot open shared object file: No such file or directory; LD_LIBRARY_PATH: /home/alokie/.local/lib/python3.10/site-packages/cv2/../../lib64:\n",
      "2023-01-29 01:40:32.259429: W tensorflow/compiler/xla/stream_executor/platform/default/dso_loader.cc:64] Could not load dynamic library 'libcusparse.so.11'; dlerror: libcusparse.so.11: cannot open shared object file: No such file or directory; LD_LIBRARY_PATH: /home/alokie/.local/lib/python3.10/site-packages/cv2/../../lib64:\n",
      "2023-01-29 01:40:32.259464: W tensorflow/compiler/xla/stream_executor/platform/default/dso_loader.cc:64] Could not load dynamic library 'libcudnn.so.8'; dlerror: libcudnn.so.8: cannot open shared object file: No such file or directory; LD_LIBRARY_PATH: /home/alokie/.local/lib/python3.10/site-packages/cv2/../../lib64:\n",
      "2023-01-29 01:40:32.259471: W tensorflow/core/common_runtime/gpu/gpu_device.cc:1934] Cannot dlopen some GPU libraries. Please make sure the missing libraries mentioned above are installed properly if you would like to use GPU. Follow the guide at https://www.tensorflow.org/install/gpu for how to download and setup the required libraries for your platform.\n",
      "Skipping registering GPU devices...\n",
      "2023-01-29 01:40:32.259683: I tensorflow/core/platform/cpu_feature_guard.cc:193] This TensorFlow binary is optimized with oneAPI Deep Neural Network Library (oneDNN) to use the following CPU instructions in performance-critical operations:  AVX2 FMA\n",
      "To enable them in other operations, rebuild TensorFlow with the appropriate compiler flags.\n"
     ]
    },
    {
     "name": "stdout",
     "output_type": "stream",
     "text": [
      "WARNING:tensorflow:No training configuration found in the save file, so the model was *not* compiled. Compile it manually.\n"
     ]
    },
    {
     "name": "stderr",
     "output_type": "stream",
     "text": [
      "[INFO] tello.py - 122 - Tello instance was initialized. Host: '192.168.10.1'. Port: '8889'.\n",
      "[INFO] tello.py - 437 - Send command: 'command'\n",
      "[INFO] tello.py - 461 - Response command: 'ok'\n",
      "[INFO] tello.py - 437 - Send command: 'streamon'\n"
     ]
    },
    {
     "name": "stdout",
     "output_type": "stream",
     "text": [
      "17\n"
     ]
    },
    {
     "name": "stderr",
     "output_type": "stream",
     "text": [
      "[INFO] tello.py - 461 - Response streamon: 'ok'\n",
      "[ERROR:0@3.290] global cap.cpp:164 open VIDEOIO(CV_IMAGES): raised OpenCV exception:\n",
      "\n",
      "OpenCV(4.7.0) /io/opencv/modules/videoio/src/cap_images.cpp:293: error: (-215:Assertion failed) !_filename.empty() in function 'open'\n",
      "\n",
      "\n"
     ]
    }
   ],
   "source": [
    "import cv2 \n",
    "import numpy as np\n",
    "from keras.models import load_model\n",
    "from djitellopy import tello\n",
    "\n",
    "# Load the model\n",
    "model = load_model('keras_model.h5')\n",
    "\n",
    "# CAMERA can be 0 or 1 based on default camera of your computer.\n",
    "me = tello.Tello()\n",
    "#camera = cv2.VideoCapture(0)\n",
    "me.connect()\n",
    "print(me.get_battery())\n",
    "f=me.streamon()\n",
    "camera=cv2.VideoCapture(f)\n",
    "\n",
    "# Grab the labels from the labels.txt file. This will be used later.\n",
    "labels = open('labels.txt', 'r').readlines()\n",
    "\n",
    "while True:\n",
    "    # Grab the webcameras image.\n",
    "    ret, image = camera.read()\n",
    "    # Listen to the keyboard for presses.\n",
    "    keyboard_input = cv2.waitKey(1)\n",
    "    # 27 is the ASCII for the esc key on your keyboard.\n",
    "    if keyboard_input == 27:\n",
    "        break\n",
    "\n",
    "camera.release()\n",
    "cv2.destroyAllWindows()\n"
   ]
  },
  {
   "cell_type": "code",
   "execution_count": null,
   "id": "f11fc29d",
   "metadata": {},
   "outputs": [],
   "source": []
  },
  {
   "cell_type": "code",
   "execution_count": null,
   "id": "1073be37",
   "metadata": {},
   "outputs": [],
   "source": []
  }
 ],
 "metadata": {
  "kernelspec": {
   "display_name": "Python 3 (ipykernel)",
   "language": "python",
   "name": "python3"
  },
  "language_info": {
   "codemirror_mode": {
    "name": "ipython",
    "version": 3
   },
   "file_extension": ".py",
   "mimetype": "text/x-python",
   "name": "python",
   "nbconvert_exporter": "python",
   "pygments_lexer": "ipython3",
   "version": "3.10.6"
  }
 },
 "nbformat": 4,
 "nbformat_minor": 5
}
